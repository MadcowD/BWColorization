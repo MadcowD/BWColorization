{
 "cells": [
  {
   "cell_type": "markdown",
   "metadata": {},
   "source": [
    "# Learning Image Colorization with Deep  Neural Networks in TensorFlow"
   ]
  },
  {
   "cell_type": "markdown",
   "metadata": {},
   "source": [
    "[TODO: Improve shitty title]"
   ]
  },
  {
   "cell_type": "markdown",
   "metadata": {},
   "source": [
    "Colorization example\n",
    "![colorization example](https://camo.githubusercontent.com/7166e9bbac77da856cc0b5eeb10efc0a61c6644a/687474703a2f2f692e696d6775722e636f6d2f645069316f31572e706e67)"
   ]
  },
  {
   "cell_type": "markdown",
   "metadata": {},
   "source": [
    "## Table of contents [TODO polish]\n",
    "\n",
    "* Intro\n",
    "* History of Colorization\n",
    "* (Maybe previous approaches that didn't work?)\n",
    "* Deep learning: Results from this approach\n",
    "* Note about prerequisites\n",
    "* Getting started with architecture\n",
    "* Dilated convolutions; Why they are necessary etc.\n",
    "* [Where to insert ab color space]\n",
    "* Loss functions\n",
    "* Perceptual losses, temperature softmax sampling\n",
    "* Training the model/Loading trained model\n",
    "* Playing around with it and conclusion"
   ]
  },
  {
   "cell_type": "markdown",
   "metadata": {},
   "source": [
    "### Intro/ history/previous approaches\n",
    "\n",
    "lol"
   ]
  },
  {
   "cell_type": "markdown",
   "metadata": {},
   "source": [
    "### Enter deep learning\n",
    "\n",
    "In October, 2015 [Zhang et al, 2016](https://arxiv.org/pdf/1603.08511.pdf) introduce an amazing result using deep convolutional neural networks. By carefully crafting their architecture and loss function, they were able to avoid color desaturation issues. The pictures produced by this method are so brilliant, they even fool humans 32% of the time in a 'colorization turing test'.\n",
    "\n",
    "![](http://richzhang.github.io/colorization/resources/images/teaser3.jpg)\n",
    "\n",
    "In this article we will explain this technique and demonstate how to implement it. This article assumes familiarity with tensorflow and knowledge of convolutional neural networks. If you would like to read more about those, here are some great resources: [TODO : insert]"
   ]
  },
  {
   "cell_type": "markdown",
   "metadata": {},
   "source": [
    "### Starting with the image pipeline and basic modules\n",
    "To process any given image, we will take in an RGB image and convert it into the LAB color space. We will use LAB over RGB because it is a better approximation of how humans percieve color, and so images produced with LAB look better\n",
    "\n",
    "\n",
    "Just like RGB, LAB has three channels: Luminance, A, and B. The Luminance channel contains brightness information, while A and B channels contain information about the color shade. The black-and-white image is exactly the luminance channel, so our task will be to use Luminance to predict color channels."
   ]
  },
  {
   "cell_type": "markdown",
   "metadata": {},
   "source": [
    "[insert relavant code]"
   ]
  },
  {
   "cell_type": "markdown",
   "metadata": {},
   "source": [
    "### Stacking the layers\n",
    "\n",
    "Now that we have our image feeding pipeline, it's time to move on to the network layers!\n",
    "\n",
    "![](./stack.png)\n",
    "\n",
    "The network has 8 convolutional layers, and the middle two layers use dilated convolutions. What's a dilated convolution, you ask? It is exactly the same as a normal convolution, except that it effectively inserts zeros periodically between all the kernel values, 'dilating' the kernel by some factor. These dilated kernels span over a larger area, so every unit in the layer has access to more information. This larger area span is important because image color depends on much more than just local texture; we need global information. Here is a great explanation of Dilated convolutions: http://www.inference.vc/dilated-convolutions-and-kronecker-factorisation/\n",
    "\n",
    "\n",
    "We will now implement all the layers in tensorflow."
   ]
  },
  {
   "cell_type": "markdown",
   "metadata": {},
   "source": [
    "```python\n",
    "\n",
    "from .utils import conv2d\n",
    "\n",
    "def construct(input_placeholder):\n",
    "\t\"\"\"\n",
    "\tConstructs the main model architecture in tensorflow.\n",
    "\t\"\"\"\n",
    "\t\t###############################\n",
    "\t\t#      MODEL ARCHITECTURE     #\n",
    "\t\t###############################\n",
    "\t\t# First block of convolutions\n",
    "\t\twith tf.variable_scope(\"conv_1\"):\n",
    "\t\t\tconv_1_1 = conv2d(input_placeholder,\n",
    "\t\t\t\tinput_channels=1,\n",
    "\t\t\t\toutput_channels=64,\n",
    "\t\t\t\tkernel_size=3,\n",
    "\t\t\t\tpad=1)\n",
    "\t\t\tconv_1_2 = conv2d(conv_1_1,\n",
    "\t\t\t\tinput_channels=64,\n",
    "\t\t\t\toutput_channels=64,\n",
    "\t\t\t\tkernel_size=3,\n",
    "\t\t\t\tpad=1,\n",
    "\t\t\t\tstride=2)\n",
    "\t\t\t# TODO batchn\n",
    "\t\t\tbn_1 = conv_1_2\n",
    "\n",
    "\t\t# Second block of convolutions.\n",
    "\t\twith tf.variable_scope(\"conv2\"):\n",
    "\t\t\tconv_2_1 = conv2d(bn_1,\n",
    "\t\t\t\tinput_channels=64,\n",
    "\t\t\t\toutput_channels=128,\n",
    "\t\t\t\tkernel_size=3,\n",
    "\t\t\t\tpad=1)\n",
    "\t\t\tconv_2_2 = conv2d(conv_2_1,\n",
    "\t\t\t\tinput_channels=128,\n",
    "\t\t\t\toutput_channels=128,\n",
    "\t\t\t\tkernel_size=3,\n",
    "\t\t\t\tpad=1,\n",
    "\t\t\t\tstride=2)\n",
    "\n",
    "\t\t\t# TODO batchn\n",
    "\t\t\tbn_2 = conv_2_2\n",
    "\n",
    "\t\twith tf.variable_scope(\"conv3\"):\n",
    "\t\t\tconv_3_1 = conv2d(bn_2,\n",
    "\t\t\t\tinput_channels=128,\n",
    "\t\t\t\toutput_channels=256,\n",
    "\t\t\t\tkernel_size=3,\n",
    "\t\t\t\tpad=1)\n",
    "\t\t\tconv_3_2 = conv2d(conv_3_1,\n",
    "\t\t\t\tinput_channels=256,\n",
    "\t\t\t\toutput_channels=256,\n",
    "\t\t\t\tkernel_size=3,\n",
    "\t\t\t\tpad=1)\n",
    "\t\t\tconv_3_3 = conv2d(conv_3_2,\n",
    "\t\t\t\tinput_channels=256,\n",
    "\t\t\t\toutput_channels=256,\n",
    "\t\t\t\tkernel_size=3,\n",
    "\t\t\t\tpad=1,\n",
    "\t\t\t\tstride=2)\n",
    "\t\t\t# TODO batchn\n",
    "\t\t\tbn_3 = conv_3_3\n",
    "\n",
    "\n",
    "\t\t# DILATED LAYERS:\n",
    "\t\twith tf.variable_scope(\"conv4\"):\n",
    "\t\t\tconv_4_1 = conv2d(bn_3,\n",
    "\t\t\t\tinput_channels=256,\n",
    "\t\t\t\toutput_channels=512,\n",
    "\t\t\t\tkernel_size=3,\n",
    "\t\t\t\tpad=1,\n",
    "\t\t\t\tdilation=1)\n",
    "\t\t\tconv_4_2 = conv2d(conv_4_1,\n",
    "\t\t\t\tinput_channels=512,\n",
    "\t\t\t\toutput_channels=512,\n",
    "\t\t\t\tkernel_size=3,\n",
    "\t\t\t\tpad=1,\n",
    "\t\t\t\tdilation=1)\n",
    "\t\t\tconv_4_3 = conv2d(conv_4_2,\n",
    "\t\t\t\tinput_channels=512,\n",
    "\t\t\t\toutput_channels=512,\n",
    "\t\t\t\tkernel_size=3,\n",
    "\t\t\t\tpad=1,\n",
    "\t\t\t\tdilation=1)\n",
    "\t\t\t# TODO batchn\n",
    "\t\t\tbn_4 = conv_4_3\n",
    "\n",
    "\t\twith tf.variable_scope(\"conv5\"):\n",
    "\t\t\tconv_5_1 = conv2d(bn_4,\n",
    "\t\t\t\tinput_channels=512,\n",
    "\t\t\t\toutput_channels=512,\n",
    "\t\t\t\tkernel_size=3,\n",
    "\t\t\t\tpad=2,\n",
    "\t\t\t\tdilation=2)\n",
    "\t\t\tconv_5_2 = conv2d(conv_5_1,\n",
    "\t\t\t\tinput_channels=512,\n",
    "\t\t\t\toutput_channels=512,\n",
    "\t\t\t\tkernel_size=3,\n",
    "\t\t\t\tpad=2,\n",
    "\t\t\t\tdilation=2)\n",
    "\t\t\tconv_5_3 = conv2d(conv_5_2,\n",
    "\t\t\t\tinput_channels=512,\n",
    "\t\t\t\toutput_channels=512,\n",
    "\t\t\t\tkernel_size=3,\n",
    "\t\t\t\tpad=2,\n",
    "\t\t\t\tdilation=2)\n",
    "\t\t\t# TODO batchn\n",
    "\t\t\tbn_5 = conv_5_3\n",
    "\n",
    "\t\twith tf.variable_scope(\"conv6\"):\n",
    "\t\t\tconv_6_1 = conv2d(bn_5,\n",
    "\t\t\t\tinput_channels=512,\n",
    "\t\t\t\toutput_channels=512,\n",
    "\t\t\t\tkernel_size=3,\n",
    "\t\t\t\tpad=2,\n",
    "\t\t\t\tdilation=2)\n",
    "\t\t\tconv_6_2 = conv2d(conv_6_1,\n",
    "\t\t\t\tinput_channels=512,\n",
    "\t\t\t\toutput_channels=512,\n",
    "\t\t\t\tkernel_size=3,\n",
    "\t\t\t\tpad=2,\n",
    "\t\t\t\tdilation=2)\n",
    "\t\t\tconv_6_3 = conv2d(conv_6_2,\n",
    "\t\t\t\tinput_channels=512,\n",
    "\t\t\t\toutput_channels=512,\n",
    "\t\t\t\tkernel_size=3,\n",
    "\t\t\t\tpad=2,\n",
    "\t\t\t\tdilation=2)\n",
    "\t\t\t# TODO batchn\n",
    "\t\t\tbn_6 = conv_6_3\n",
    "\n",
    "\n",
    "\t\twith tf.variable_scope(\"conv7\"):\n",
    "\t\t\tconv_7_1 = conv2d(bn_6,\n",
    "\t\t\t\tinput_channels=512,\n",
    "\t\t\t\toutput_channels=512,\n",
    "\t\t\t\tkernel_size=3,\n",
    "\t\t\t\tpad=1,\n",
    "\t\t\t\tdilation=1)\n",
    "\t\t\tconv_7_2 = conv2d(conv_7_1,\n",
    "\t\t\t\tinput_channels=512,\n",
    "\t\t\t\toutput_channels=512,\n",
    "\t\t\t\tkernel_size=3,\n",
    "\t\t\t\tpad=1,\n",
    "\t\t\t\tdilation=1)\n",
    "\t\t\tconv_7_3 = conv2d(conv_7_2,\n",
    "\t\t\t\tinput_channels=512,\n",
    "\t\t\t\toutput_channels=512,\n",
    "\t\t\t\tkernel_size=3,\n",
    "\t\t\t\tpad=1,\n",
    "\t\t\t\tdilation=1)\n",
    "\t\t\t# TODO batchn\n",
    "\t\t\tbn_7 = conv_7_3\n",
    "\n",
    "\n",
    "\t\twith tf.variable_scope(\"conv8\"):\n",
    "\t\t\tconv_8_1 = deconv2d(bn_7,\n",
    "\t\t\t\tinput_channels=512,\n",
    "\t\t\t\toutput_size=[None, 64, 64, 256],\n",
    "\t\t\t\tkernel_size=4,\n",
    "\t\t\t\tstride=2,\n",
    "\t\t\t\tpad=1)\n",
    "\t\t\tconv_8_2 = conv2d(conv_8_1,\n",
    "\t\t\t\tinput_channels=256,\n",
    "\t\t\t\toutput_channels=256,\n",
    "\t\t\t\tkernel_size=3,\n",
    "\t\t\t\tpad=1)\n",
    "\t\t\tconv_8_3 = conv2d(conv_8_2,\n",
    "\t\t\t\tinput_channels=256,\n",
    "\t\t\t\toutput_channels=256,\n",
    "\t\t\t\tkernel_size=3,\n",
    "\t\t\t\tpad=1,\n",
    "\t\t\t\tstride=1)\n",
    "\t\t\tconv_8_313 = conv2d(conv_8_3,\n",
    "\t\t\t\tinput_channels=256,\n",
    "\t\t\t\toutput_channels=313,\n",
    "\t\t\t\tkernel_size=3,\n",
    "\t\t\t\tpad=1,\n",
    "\t\t\t\tstride=1)\n",
    "\n",
    "\n",
    "\t\treturn conv_8_313\n",
    "\n",
    "\n",
    "```"
   ]
  },
  {
   "cell_type": "markdown",
   "metadata": {},
   "source": [
    "## Some complications\n",
    "\n",
    "One might notice that the output of this layer stack is the blue box labelled '(a,b) probability distribution', which has 313 channels. What is going on there? Don't we just want to predict 2 channels? These convolutional layers are actually designed not to predict a color straightaway, but rather a probability distribution over colors. The reason for this is simple but very important: Color prediction is an under-constrained problem. For most objects, there isn't one 'correct' color but rather multiple 'valid' colors. So, for example, if the network tries to predcit a toy's color, it will almost always be wrong since the set of possible colors is huge. This messes up the training because the network will think it is wrong even if it had a valid answer.\n",
    "\n",
    "To solve this problem, the authors divided the entire color space into 313 bins of different shades, and instead of simply predicting a single color, the network was made to predict the likelihood of each of the 313 colors for every single pixel. \n",
    "\n",
    "![Color bins tiling the ab space](tiling.png)\n",
    "\n",
    "This is a great step, but as it turns out, it is not enough. Under-constrained nature of image colorization is a very fundamental problem. We can't just take any run-of-the-mill neural network, train it on a few million samples, and expect nice results. In order to get the most vibrant and realistic image colors possible, we have to improvise with our loss functions and training methods, and that is exactly what the authors of the paper do.\n"
   ]
  },
  {
   "cell_type": "markdown",
   "metadata": {},
   "source": [
    "## The Loss Function\n",
    "\n",
    "Let’s start with the loss function. The most popular way of quantifying prediction accuracy is the squared error loss (SQE). It doesn't care about the sign of the prediction error, and has nice statistical and mathematical properties, so it is used everywhere in statistics and machine learning. This is why it is also used very frequently as a neural network loss. However, we we find that if we use this loss in image colorization, we get very dull, desaturated pictures. This happens because of a peculiar property of SQE: If there are multiple likely answers, SQE is minimum for their average. A neural network trained with SQE would not predict a Christmas sweater as bright red or bright green, but rather a muddy average of the two.\n",
    "\n",
    "[TODO: insert image?, vs x-entropy?].\n",
    "\n",
    "In general, averaging a bunch of vibrant colors gives us desaturated colors, and this is unacceptable, so we need to find a better suited loss function. The authors used a multi-class extension of the commonly used cross-entropy loss, which looks like: [insert equation and code]\n",
    "\n",
    "It turns out that in practice, even this is not enough. Most pictures that we encounter consist of a small amount of vibrant pixels, but most of the pixels – like in skies, ground, dirt – are still quite dull. In fact, the number of these dull pixels is orders of magnitudes higher. A naively trained network will be tempted to always predict dull and desaturated colors, since they are just so much more frequent. To make things more equal, we weight every color by its rarity, which we calculate by measuring how frequently the color occurs in a randomly chosen set of images, and normalizing it with respect to all the other color rarities. The new loss function looks like: \n",
    "\n",
    "![](multi.png)\n",
    "\n",
    "Here, H and W represent the height and the width of the image, and q repesents the index for color bins"
   ]
  },
  {
   "cell_type": "markdown",
   "metadata": {},
   "source": [
    "[insert loss function code here]"
   ]
  },
  {
   "cell_type": "markdown",
   "metadata": {},
   "source": [
    "\n"
   ]
  },
  {
   "cell_type": "markdown",
   "metadata": {},
   "source": [
    "## Predicting colors from probabilities:\n",
    "\n",
    "Now that we have an estimate for how likely each color is, what color should we predict? A natural prediction rule would be to choose the most likely color, but in practice it tends to produce images with strange spots all over them.\n",
    "\n",
    "This happens because the max function is not a smooth function, and the predicted color can change drastically with the smallest change in the network’s predicted likelihoods. So, even if the network predicts most colors' likelihoods perfectly, if it accidentally overestimates the likelihood of one color – say red – the final color drastically shifts towards red and we end up with a red spot. Clearly we want a more balanced way to take all the color likelihoods into account. A natural way to do this is to take a weighted average of all the colors. More likely colors have higher weights, and so the final color will be more similar to them, but since there are so many colors, overestimating one or two colors will not bias the prediction too badly. It sounds like a great idea in theory, and in practice it does eliminate the spots, but as we saw before, averaging a bunch of likely colors gives us desaturated pictures. After all our efforts in the loss function, that is the last thing we want.\n",
    "\n",
    "Ideally, we want to do something between the two extremes: we don't want blotches on our pictures, but we also want the pictures to look vibrant. So what should we do? A good way of getting the best of both worlds is to use a softmax function. Softmax does exactly what it sounds like; it is smooth, but it also acts like a max function. The temperature T is like a knob that lets us control how 'sharp' our softmax function is. With a temperature of 0, we end up with the original 'flat' weighted average. A temperature of infinity, on the other hand, gives us the original 'jagged' max function. Setting the temperature just right will give us the perfect balance.\n",
    "\n",
    "So our final prediction rule is: [insert equation and code]\n",
    "\n",
    "\n",
    "![](temperature.png)\n"
   ]
  },
  {
   "cell_type": "markdown",
   "metadata": {},
   "source": [
    "## Training the model/Loading trained model\n",
    "\n",
    "The trainer classes make it easy to train the model by just instantiating the class. However, this is a computationally expensive method, and even with one of the K40 GPUs, it can take up to 2 weeks to train it. We are providing a pre-trained model that can be loaded by:\n",
    "\n",
    "[insert code]"
   ]
  },
  {
   "cell_type": "markdown",
   "metadata": {},
   "source": [
    "## Conclusion"
   ]
  },
  {
   "cell_type": "markdown",
   "metadata": {},
   "source": []
  },
  {
   "cell_type": "code",
   "execution_count": null,
   "metadata": {
    "collapsed": true
   },
   "outputs": [],
   "source": []
  }
 ],
 "metadata": {
  "kernelspec": {
   "display_name": "Python 3",
   "language": "python",
   "name": "python3"
  },
  "language_info": {
   "codemirror_mode": {
    "name": "ipython",
    "version": 3
   },
   "file_extension": ".py",
   "mimetype": "text/x-python",
   "name": "python",
   "nbconvert_exporter": "python",
   "pygments_lexer": "ipython3",
   "version": "3.5.0"
  }
 },
 "nbformat": 4,
 "nbformat_minor": 2
}
